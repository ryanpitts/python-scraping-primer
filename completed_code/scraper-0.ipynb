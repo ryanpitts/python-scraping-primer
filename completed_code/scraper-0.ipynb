{
 "cells": [
  {
   "cell_type": "markdown",
   "metadata": {},
   "source": [
    "## Let's scrape!"
   ]
  },
  {
   "cell_type": "code",
   "execution_count": 1,
   "metadata": {},
   "outputs": [],
   "source": [
    "# import the Python libraries we need\n",
    "from bs4 import BeautifulSoup\n",
    "import csv"
   ]
  },
  {
   "cell_type": "code",
   "execution_count": 2,
   "metadata": {},
   "outputs": [],
   "source": [
    "# use Python's open() to open the HTML page we've stored locally\n",
    "page = open('pages/scraper-0-page-example-table.html', 'r')\n",
    "\n",
    "# use BeautifulSoup to parse that page into Python\n",
    "soup = BeautifulSoup(page, 'html.parser')\n",
    "\n",
    "# and close the HTML page\n",
    "page.close()"
   ]
  },
  {
   "cell_type": "code",
   "execution_count": 3,
   "metadata": {},
   "outputs": [],
   "source": [
    "# make ourselves an empty list to hold data for a CSV\n",
    "list_of_rows = []\n",
    "\n",
    "# use BeautifulSoup to find the table in our parsed HTML\n",
    "table = soup.find('table')\n",
    "\n",
    "# loop through the rows in our table using BeautifulSoup\n",
    "for row in table.find_all('tr'):\n",
    "    # create an empty list each time through, to hold cell data\n",
    "    list_of_cells = []\n",
    "    # loop through each cell in this table row\n",
    "    for cell in row.find_all('td'):\n",
    "        # grab the text from that cell\n",
    "        text = cell.text.strip()\n",
    "        # and append it to our list\n",
    "        list_of_cells.append(text)\n",
    "    # when we're done with this table row, append its data to our list of rows\n",
    "    list_of_rows.append(list_of_cells)"
   ]
  },
  {
   "cell_type": "code",
   "execution_count": 4,
   "metadata": {},
   "outputs": [],
   "source": [
    "# use Python's CSV library to create our output file\n",
    "outfile = open('nicar_cities.csv', 'w')\n",
    "writer = csv.writer(outfile)\n",
    "writer.writerows(list_of_rows)\n",
    "outfile.close()"
   ]
  }
 ],
 "metadata": {
  "kernelspec": {
   "display_name": "Python 3",
   "language": "python",
   "name": "python3"
  },
  "language_info": {
   "codemirror_mode": {
    "name": "ipython",
    "version": 3
   },
   "file_extension": ".py",
   "mimetype": "text/x-python",
   "name": "python",
   "nbconvert_exporter": "python",
   "pygments_lexer": "ipython3",
   "version": "3.5.1"
  }
 },
 "nbformat": 4,
 "nbformat_minor": 2
}
