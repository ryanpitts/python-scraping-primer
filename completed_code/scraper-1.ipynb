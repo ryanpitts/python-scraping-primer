{
 "cells": [
  {
   "cell_type": "code",
   "execution_count": 1,
   "metadata": {},
   "outputs": [],
   "source": [
    "# import the Python libraries we need\n",
    "import requests\n",
    "from bs4 import BeautifulSoup\n",
    "import csv"
   ]
  },
  {
   "cell_type": "code",
   "execution_count": 2,
   "metadata": {},
   "outputs": [],
   "source": [
    "# if we're working from a local copy of our page ...\n",
    "# use Python's open() to open the HTML page\n",
    "#html = open('pages/scraper-1-page.html', 'r')"
   ]
  },
  {
   "cell_type": "code",
   "execution_count": 3,
   "metadata": {},
   "outputs": [],
   "source": [
    "# if we're requesting a live page over the internet ...\n",
    "# define the URL we want to scrape\n",
    "URL = 'https://cp.spokanecounty.org/courtdocumentviewer/PublicViewer/SCHearingsByDate.aspx?d=01/23/2019'\n",
    "# define the headers our scraper will pass, so we look like a browser\n",
    "# https://developers.whatismybrowser.com/useragents/explore/\n",
    "HEADERS = {'user-agent': 'Mozilla/5.0 (Macintosh; Intel Mac OS X 10_10; rv:33.0) Gecko/20100101 Firefox/33.0',}\n",
    "# use requests to fetch that URL\n",
    "page = requests.get(URL, headers=HEADERS)\n",
    "# and get the page content into Python\n",
    "html = page.content"
   ]
  },
  {
   "cell_type": "code",
   "execution_count": 4,
   "metadata": {},
   "outputs": [],
   "source": [
    "# either way, once we have our page, use BeautifulSoup to parse it\n",
    "soup = BeautifulSoup(html, 'html.parser')\n",
    "# make ourselves an empty list to hold data for a CSV\n",
    "list_of_rows = []\n",
    "# use BeautifulSoup to find the table in our parsed HTML\n",
    "table = soup.find(id='tblHearingsSCByDate')"
   ]
  },
  {
   "cell_type": "code",
   "execution_count": 5,
   "metadata": {},
   "outputs": [],
   "source": [
    "# loop through the rows in our table using BeautifulSoup\n",
    "for row in table.find_all('tr', class_='detailrow'):\n",
    "    # create an empty list each time through, to hold cell data\n",
    "    list_of_cells = []\n",
    "    # loop through each cell in this table row\n",
    "    for cell in row.find_all('td'):\n",
    "        # we noticed some cruft on one cell, so get rid of it\n",
    "        if cell.span:\n",
    "            cell.span.clear()\n",
    "        # grab the text from that cell\n",
    "        text = cell.text.strip()\n",
    "        # and append it to our list\n",
    "        list_of_cells.append(text)\n",
    "    # when we're done with this table row, append its data to our list of rows\n",
    "    list_of_rows.append(list_of_cells)"
   ]
  },
  {
   "cell_type": "code",
   "execution_count": 6,
   "metadata": {},
   "outputs": [],
   "source": [
    "# use Python's CSV library to create our output file\n",
    "outfile = open('docket.csv', 'w', newline='', encoding='utf-8')\n",
    "writer = csv.writer(outfile)\n",
    "writer.writerows(list_of_rows)\n",
    "outfile.close()"
   ]
  }
 ],
 "metadata": {
  "kernelspec": {
   "display_name": "Python 3",
   "language": "python",
   "name": "python3"
  },
  "language_info": {
   "codemirror_mode": {
    "name": "ipython",
    "version": 3
   },
   "file_extension": ".py",
   "mimetype": "text/x-python",
   "name": "python",
   "nbconvert_exporter": "python",
   "pygments_lexer": "ipython3",
   "version": "3.5.1"
  }
 },
 "nbformat": 4,
 "nbformat_minor": 2
}
