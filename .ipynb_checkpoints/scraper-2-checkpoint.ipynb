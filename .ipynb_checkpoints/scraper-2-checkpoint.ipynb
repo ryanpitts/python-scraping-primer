{
 "cells": [
  {
   "cell_type": "code",
   "execution_count": 1,
   "metadata": {},
   "outputs": [],
   "source": [
    "# import the Python libraries we need\n",
    "import requests\n",
    "from bs4 import BeautifulSoup\n",
    "import csv"
   ]
  },
  {
   "cell_type": "code",
   "execution_count": 2,
   "metadata": {},
   "outputs": [],
   "source": [
    "# define the URL we want to scrape\n",
    "URL = 'https://www.fda.gov/ICECI/EnforcementActions/WarningLetters/2018/default.htm'\n",
    "# define the headers our will scraper pass, so we look like a browser\n",
    "# https://developers.whatismybrowser.com/useragents/explore/\n",
    "HEADERS = {'user-agent': 'Mozilla/5.0 (Macintosh; Intel Mac OS X 10_10; rv:33.0) Gecko/20100101 Firefox/33.0',}\n",
    "# use requests to fetch that URL\n",
    "page = requests.get(URL, headers=HEADERS)\n",
    "# and get the page content into Python\n",
    "html = page.content"
   ]
  },
  {
   "cell_type": "code",
   "execution_count": 3,
   "metadata": {},
   "outputs": [],
   "source": [
    "# use BeautifulSoup to parse our page\n",
    "soup = BeautifulSoup(html, 'html.parser')\n",
    "# make ourselves an empty list to hold data for a CSV\n",
    "list_of_rows = []\n",
    "# use BeautifulSoup to find the table in our parsed HTML\n",
    "table = soup.find('table')"
   ]
  },
  {
   "cell_type": "code",
   "execution_count": 4,
   "metadata": {},
   "outputs": [],
   "source": [
    "# make ourselves an empty list to hold data for a CSV\n",
    "list_of_rows = []\n",
    "# we'll be scraping multiple pages, so start tracking what page we're on\n",
    "page_num = 1\n",
    "# and set up our loop to run until we tell it to stop\n",
    "more_pages = True"
   ]
  },
  {
   "cell_type": "code",
   "execution_count": 5,
   "metadata": {},
   "outputs": [],
   "source": [
    "# start our loop to scrape multiple pages\n",
    "while more_pages is True:\n",
    "    # loop through the rows in our current table using BeautifulSoup\n",
    "    # (we noticed that the first row is empty, so we can skip it)\n",
    "    for row in table.find_all('tr')[1:]:\n",
    "        # create an empty list each time through, to hold cell data\n",
    "        list_of_cells = []\n",
    "        # loop through each cell in this table row\n",
    "        for cell in row.find_all('td'):\n",
    "            # grab the text from that cell\n",
    "            text = cell.text.strip()\n",
    "            # and append it to our list\n",
    "            list_of_cells.append(text)\n",
    "        # when we're done with this table row, append its data to our list of rows\n",
    "        list_of_rows.append(list_of_cells)\n",
    "    # look to see if there's a \"next page\" link on our current page\n",
    "    if len(soup.find_all('a', href=True, text='Next')) > 0:\n",
    "        # we have another page! fetch a new table and send it back through the loop\n",
    "        # adjust the URL we're scraping (in this case, by incrementing the page number)\n",
    "        page_num += 1\n",
    "        NEXT_URL = URL + \"?Page=\" + str(page_num)\n",
    "        # use requests to fetch our new URL\n",
    "        page = requests.get(NEXT_URL, headers=HEADERS)\n",
    "        # as above, get the page content into Python\n",
    "        # then use BeautifulSoup to parse it and find our table\n",
    "        html = page.content\n",
    "        soup = BeautifulSoup(html, 'html.parser')\n",
    "        table = soup.find('table')\n",
    "    # if there's no \"next page\" link, there are no more pages, so drop out of our loop\n",
    "    else:\n",
    "        more_pages = False"
   ]
  },
  {
   "cell_type": "code",
   "execution_count": 6,
   "metadata": {},
   "outputs": [],
   "source": [
    "# use Python's CSV library to create our output file\n",
    "outfile = open('fda_warning_letters.csv', 'w', newline='', encoding='utf-8')\n",
    "writer = csv.writer(outfile)\n",
    "writer.writerows(list_of_rows)\n",
    "outfile.close()"
   ]
  }
 ],
 "metadata": {
  "kernelspec": {
   "display_name": "Python 3",
   "language": "python",
   "name": "python3"
  },
  "language_info": {
   "codemirror_mode": {
    "name": "ipython",
    "version": 3
   },
   "file_extension": ".py",
   "mimetype": "text/x-python",
   "name": "python",
   "nbconvert_exporter": "python",
   "pygments_lexer": "ipython3",
   "version": "3.5.1"
  }
 },
 "nbformat": 4,
 "nbformat_minor": 2
}
